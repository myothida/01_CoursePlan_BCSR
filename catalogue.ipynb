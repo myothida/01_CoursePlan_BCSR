{
 "cells": [
  {
   "cell_type": "code",
   "execution_count": 1,
   "metadata": {},
   "outputs": [],
   "source": [
    "import pandas as pd\n"
   ]
  },
  {
   "cell_type": "code",
   "execution_count": 2,
   "metadata": {},
   "outputs": [
    {
     "data": {
      "text/plain": [
       "Index(['SSBSECT_TERM_CODE', 'SEMESTER', 'YEAR', 'SSBSECT_CRN',\n",
       "       'SSBSECT_SUBJ_CODE', 'STVDEPT_DESC', 'SSBSECT_CRSE_NUMB',\n",
       "       'SSBSECT_SEQ_NUMB', 'COURSE', 'SHORT_TITLE', 'LONG_TITLE',\n",
       "       'PRINT_TITLE', 'TYPE', 'SCBCRSE_DIVS_CODE', 'DIVSION_DESC',\n",
       "       'SCBCRSE_CREDIT_HR_LOW', 'SCBCRSE_CREDIT_HR_HIGH', 'DEFAULT_CREDITS',\n",
       "       'PRINT_CREDITS', 'SORT_SECTION', 'XLIST_1', 'XLIST_DESC_1', 'XLIST_2',\n",
       "       'XLIST_DESC_2', 'XLIST_3', 'XLIST_DESC_3', 'XLIST_4', 'XLIST_DESC_4',\n",
       "       'SSBSECT_MAX_ENRL', 'SSBSECT_WAIT_COUNT', 'SSBSECT_ENRL',\n",
       "       'SSBSECT_SEATS_AVAIL', 'SSBSECT_PTRM_CODE', 'PART_OF_SEMESTER',\n",
       "       'GRADE_MODE', 'HAS_FEE', 'MULTI_LEVEL_WITH', 'MULTI_LEVEL_PRINT',\n",
       "       'HAS_FINAL', 'FY', 'FOR_WHOM', 'IS_CP', 'INSTRUCTOR_LAST',\n",
       "       'INSTRUCTOR_FIRST', 'SSRMEET_BEGIN_TIME', 'SSRMEET_END_TIME',\n",
       "       'SSRMEET_BLDG_CODE', 'STVBLDG_DESC', 'SSRMEET_ROOM_CODE',\n",
       "       'SSRMEET_MON_DAY', 'SSRMEET_TUE_DAY', 'SSRMEET_WED_DAY',\n",
       "       'SSRMEET_THU_DAY', 'SSRMEET_FRI_DAY', 'SSRMEET_SAT_DAY',\n",
       "       'SSRMEET_SUN_DAY', 'PRINT_DAYS', 'PRINT_TIME', 'DIVISION_CREDIT',\n",
       "       'SPECIAL_PROGRAM', 'CRNKEY'],\n",
       "      dtype='object')"
      ]
     },
     "execution_count": 2,
     "metadata": {},
     "output_type": "execute_result"
    }
   ],
   "source": [
    "df = pd.read_csv('CourseExtract.txt', sep='\\t')\n",
    "df.columns"
   ]
  },
  {
   "cell_type": "code",
   "execution_count": 3,
   "metadata": {},
   "outputs": [
    {
     "name": "stdout",
     "output_type": "stream",
     "text": [
      "<class 'pandas.core.frame.DataFrame'>\n",
      "RangeIndex: 359 entries, 0 to 358\n",
      "Data columns (total 61 columns):\n",
      " #   Column                  Non-Null Count  Dtype  \n",
      "---  ------                  --------------  -----  \n",
      " 0   SSBSECT_TERM_CODE       359 non-null    int64  \n",
      " 1   SEMESTER                359 non-null    object \n",
      " 2   YEAR                    359 non-null    int64  \n",
      " 3   SSBSECT_CRN             359 non-null    int64  \n",
      " 4   SSBSECT_SUBJ_CODE       359 non-null    object \n",
      " 5   STVDEPT_DESC            353 non-null    object \n",
      " 6   SSBSECT_CRSE_NUMB       359 non-null    object \n",
      " 7   SSBSECT_SEQ_NUMB        359 non-null    object \n",
      " 8   COURSE                  359 non-null    object \n",
      " 9   SHORT_TITLE             359 non-null    object \n",
      " 10  LONG_TITLE              55 non-null     object \n",
      " 11  PRINT_TITLE             359 non-null    object \n",
      " 12  TYPE                    359 non-null    object \n",
      " 13  SCBCRSE_DIVS_CODE       359 non-null    int64  \n",
      " 14  DIVSION_DESC            359 non-null    object \n",
      " 15  SCBCRSE_CREDIT_HR_LOW   359 non-null    float64\n",
      " 16  SCBCRSE_CREDIT_HR_HIGH  249 non-null    float64\n",
      " 17  DEFAULT_CREDITS         359 non-null    float64\n",
      " 18  PRINT_CREDITS           359 non-null    object \n",
      " 19  SORT_SECTION            359 non-null    object \n",
      " 20  XLIST_1                 22 non-null     object \n",
      " 21  XLIST_DESC_1            22 non-null     object \n",
      " 22  XLIST_2                 4 non-null      object \n",
      " 23  XLIST_DESC_2            4 non-null      object \n",
      " 24  XLIST_3                 0 non-null      float64\n",
      " 25  XLIST_DESC_3            0 non-null      float64\n",
      " 26  XLIST_4                 0 non-null      float64\n",
      " 27  XLIST_DESC_4            0 non-null      float64\n",
      " 28  SSBSECT_MAX_ENRL        359 non-null    int64  \n",
      " 29  SSBSECT_WAIT_COUNT      359 non-null    int64  \n",
      " 30  SSBSECT_ENRL            359 non-null    int64  \n",
      " 31  SSBSECT_SEATS_AVAIL     359 non-null    int64  \n",
      " 32  SSBSECT_PTRM_CODE       359 non-null    object \n",
      " 33  PART_OF_SEMESTER        359 non-null    object \n",
      " 34  GRADE_MODE              359 non-null    object \n",
      " 35  HAS_FEE                 66 non-null     object \n",
      " 36  MULTI_LEVEL_WITH        23 non-null     object \n",
      " 37  MULTI_LEVEL_PRINT       18 non-null     object \n",
      " 38  HAS_FINAL               208 non-null    object \n",
      " 39  FY                      261 non-null    object \n",
      " 40  FOR_WHOM                359 non-null    object \n",
      " 41  IS_CP                   19 non-null     object \n",
      " 42  INSTRUCTOR_LAST         338 non-null    object \n",
      " 43  INSTRUCTOR_FIRST        338 non-null    object \n",
      " 44  SSRMEET_BEGIN_TIME      265 non-null    float64\n",
      " 45  SSRMEET_END_TIME        265 non-null    float64\n",
      " 46  SSRMEET_BLDG_CODE       253 non-null    object \n",
      " 47  STVBLDG_DESC            253 non-null    object \n",
      " 48  SSRMEET_ROOM_CODE       231 non-null    object \n",
      " 49  SSRMEET_MON_DAY         127 non-null    object \n",
      " 50  SSRMEET_TUE_DAY         118 non-null    object \n",
      " 51  SSRMEET_WED_DAY         122 non-null    object \n",
      " 52  SSRMEET_THU_DAY         108 non-null    object \n",
      " 53  SSRMEET_FRI_DAY         67 non-null     object \n",
      " 54  SSRMEET_SAT_DAY         10 non-null     object \n",
      " 55  SSRMEET_SUN_DAY         10 non-null     object \n",
      " 56  PRINT_DAYS              266 non-null    object \n",
      " 57  PRINT_TIME              359 non-null    object \n",
      " 58  DIVISION_CREDIT         359 non-null    object \n",
      " 59  SPECIAL_PROGRAM         359 non-null    object \n",
      " 60  CRNKEY                  359 non-null    int64  \n",
      "dtypes: float64(9), int64(9), object(43)\n",
      "memory usage: 171.2+ KB\n"
     ]
    }
   ],
   "source": [
    "df.info()"
   ]
  },
  {
   "cell_type": "code",
   "execution_count": null,
   "metadata": {},
   "outputs": [],
   "source": []
  }
 ],
 "metadata": {
  "kernelspec": {
   "display_name": ".venv",
   "language": "python",
   "name": "python3"
  },
  "language_info": {
   "codemirror_mode": {
    "name": "ipython",
    "version": 3
   },
   "file_extension": ".py",
   "mimetype": "text/x-python",
   "name": "python",
   "nbconvert_exporter": "python",
   "pygments_lexer": "ipython3",
   "version": "3.12.1"
  }
 },
 "nbformat": 4,
 "nbformat_minor": 2
}

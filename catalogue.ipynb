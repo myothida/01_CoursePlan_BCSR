{
 "cells": [
  {
   "cell_type": "code",
   "execution_count": 18,
   "metadata": {},
   "outputs": [
    {
     "data": {
      "text/plain": [
       "{'course_title': <re.Match object; span=(0, 123), match='This course continues to develop the four skills—>,\n",
       " 'course_code': <re.Match object; span=(561, 572), match='Chinese 101'>,\n",
       " 'instructor': <re.Match object; span=(684, 698), match='Wang 4 credits'>,\n",
       " 'credits': <re.Match object; span=(689, 698), match='4 credits'>,\n",
       " 'prerequisite': <re.Match object; span=(547, 605), match='Prerequisite: Chinese 101 or permission of the in>,\n",
       " 'offering_info': None,\n",
       " 'description': <re.Match object; span=(691, 1157), match='credits\\nAs a continuation of Chinese 205, this c>}"
      ]
     },
     "execution_count": 18,
     "metadata": {},
     "output_type": "execute_result"
    }
   ],
   "source": [
    "import pdfplumber\n",
    "import re\n",
    "\n",
    "# Function to extract prerequisites from the text\n",
    "def extract_prerequisites(text):\n",
    "    # Regex pattern to find prerequisites\n",
    "    pattern = r'Prerequisites:\\s*(.*?)\\.'\n",
    "    matches = re.findall(pattern, text, re.DOTALL)\n",
    "    return [match.strip() for match in matches]\n",
    "\n",
    "# Read the PDF file\n",
    "pdf_path = 'bcsr_catalogue.pdf'  # Replace with your PDF file path\n",
    "with pdfplumber.open(pdf_path) as pdf:\n",
    "    extracted_text = pdf.pages[66].extract_text()\n",
    "\n",
    "    \"\"\"\n",
    "    for page in pdf.pages:\n",
    "        text += page.extract_text()  # Extract text from each page\n",
    "        print(text)\n",
    "    \"\"\" \n",
    "extracted_text = pdf.pages[67].extract_text()\n",
    "courses = {}\n",
    "courses['course_title'] = re.search(r'^(.*?)\\n', extracted_text)\n",
    "courses['course_code'] = re.search(r'\\b(\\w+ \\d{3})\\b', extracted_text)  # Matches 'Biology 223' or other patterns like 'Math 101'\n",
    "courses['instructor'] = re.search(r'\\b([A-Za-z]+)\\b\\s+(\\d+ credits)', extracted_text)  # Matches instructor's name before credits\n",
    "courses['credits'] = re.search(r'(\\d+ credits)', extracted_text)\n",
    "courses['prerequisite'] = re.search(r'Prerequisite: (.*?)\\.', extracted_text)\n",
    "courses['offering_info'] = re.search(r'This course is generally offered (.*)', extracted_text)\n",
    "courses['description'] = re.search(r'credits\\n(.*?)Prerequisite', extracted_text, re.DOTALL)\n",
    "courses\n",
    "\n"
   ]
  }
 ],
 "metadata": {
  "kernelspec": {
   "display_name": ".venv",
   "language": "python",
   "name": "python3"
  },
  "language_info": {
   "codemirror_mode": {
    "name": "ipython",
    "version": 3
   },
   "file_extension": ".py",
   "mimetype": "text/x-python",
   "name": "python",
   "nbconvert_exporter": "python",
   "pygments_lexer": "ipython3",
   "version": "3.12.1"
  }
 },
 "nbformat": 4,
 "nbformat_minor": 2
}

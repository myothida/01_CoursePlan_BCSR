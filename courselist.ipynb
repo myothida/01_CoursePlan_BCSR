{
 "cells": [
  {
   "cell_type": "code",
   "execution_count": 1,
   "metadata": {},
   "outputs": [],
   "source": [
    "import pandas as pd\n",
    "\n",
    "def extract_table(table):\n",
    "    # Extract rows, skipping the header row\n",
    "    rows = table.find_all('tr')\n",
    "    # Iterate through each row to get course information\n",
    "    course_data = []\n",
    "    for row in rows:\n",
    "        cells = row.find_all('td')\n",
    "        if len(cells) >= 13:  # Ensure there are enough columns\n",
    "            crn = cells[1].get_text(strip=True)\n",
    "            course_number = cells[2].get_text(strip=True)\n",
    "            title = cells[4].get_text(strip=True)\n",
    "            credits = cells[6].get_text(strip=True)\n",
    "            day_time_room = cells[7].get_text(strip=True)\n",
    "            instructor = cells[8].get_text(strip=True)\n",
    "            fy = cells[9].get_text(strip=True)\n",
    "            max_enroll = cells[10].get_text(strip=True)\n",
    "            current_enroll = cells[11].get_text(strip=True)\n",
    "            waitlist = cells[12].get_text(strip=True)\n",
    "            \n",
    "            course_data.append([crn, course_number, title, credits, day_time_room, instructor, fy, max_enroll, current_enroll, waitlist])\n",
    "\n",
    "    # Create a DataFrame from the course data\n",
    "    header_values = ['CRN', 'Course Number', 'Title', 'Credits', 'Day/Time/Room', 'Instructor', 'FY', 'Max', 'Current', 'Wait']\n",
    "    df = pd.DataFrame(course_data, columns=header_values)\n",
    "    # Drop rows where any of the columns contain header values\n",
    "    #df_cleaned = df[~df.isin(header_values).any(axis=1)]\n",
    "\n",
    "    return df"
   ]
  },
  {
   "cell_type": "code",
   "execution_count": 3,
   "metadata": {},
   "outputs": [],
   "source": [
    "import requests\n",
    "from bs4 import BeautifulSoup\n",
    "\n",
    "# URL of the course guide\n",
    "url = \"https://portal.simons-rock.edu/cg/Fall2024CourseGuide.php\"\n",
    "\n",
    "# Send a GET request to fetch the content of the page\n",
    "response = requests.get(url)\n",
    "tb_idex = 0\n",
    "# Check if the request was successful\n",
    "if response.status_code == 200:\n",
    "    # Parse the HTML content using BeautifulSoup\n",
    "    soup = BeautifulSoup(response.text, 'html.parser')\n",
    "    \n",
    "    # Find the table containing the courses\n",
    "    tables = soup.find_all('table')[1:]\n",
    "    # Iterate through tables to extract course details\n",
    "    for table in tables:\n",
    "        df = extract_table(table)\n",
    "        df.to_csv(str(tb_idex)+'.csv')\n",
    "        tb_idex +=1\n",
    "else:\n",
    "    print(\"Failed to retrieve the page content.\")\n"
   ]
  },
  {
   "cell_type": "code",
   "execution_count": 3,
   "metadata": {},
   "outputs": [],
   "source": [
    "import os\n",
    "\n",
    "current_directory = os.getcwd()\n",
    "csv_files = [file for file in os.listdir(current_directory) if file.endswith('.csv')]\n",
    "merged_df = None\n",
    "for csv_file in csv_files:\n",
    "    file_path = os.path.join(current_directory, csv_file)  # Full path to the file\n",
    "    df = pd.read_csv(file_path, index_col=0)  # Read the CSV file into a DataFrame\n",
    "    if merged_df is None:\n",
    "        merged_df = df  # Initialize with the first DataFrame\n",
    "    else:\n",
    "        merged_df =pd.concat([merged_df, df], ignore_index=True)\n",
    " \n",
    "header_values = ['CRN', 'Course Number', 'Title', 'Credits', 'Day/Time/Room', 'Instructor', 'FY', 'Max', 'Current', 'Wait']\n",
    "df_cleaned = merged_df[~merged_df.isin(header_values).any(axis=1)]\n",
    "df_cleaned.to_csv('dataset1.csv')"
   ]
  }
 ],
 "metadata": {
  "kernelspec": {
   "display_name": "Python 3",
   "language": "python",
   "name": "python3"
  },
  "language_info": {
   "codemirror_mode": {
    "name": "ipython",
    "version": 3
   },
   "file_extension": ".py",
   "mimetype": "text/x-python",
   "name": "python",
   "nbconvert_exporter": "python",
   "pygments_lexer": "ipython3",
   "version": "3.11.9"
  }
 },
 "nbformat": 4,
 "nbformat_minor": 2
}
